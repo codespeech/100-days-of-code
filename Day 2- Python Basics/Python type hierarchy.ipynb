{
 "cells": [
  {
   "cell_type": "markdown",
   "metadata": {},
   "source": [
    "In this section we are going to cover following types ([ref](https://www.udemy.com/course/python-3-deep-dive-part-1/learn/lecture/7192358#overview)):\n",
    "\n",
    "### Numbers\n",
    "\n",
    "1. #### Integral\n",
    "    * Integers\n",
    "    * Booleans\n",
    "2. #### Non-Integrals\n",
    "    * Floats ( Doubles in C)\n",
    "    * Complex\n",
    "    * Decimals\n",
    "    * Fractions"
   ]
  },
  {
   "cell_type": "code",
   "execution_count": null,
   "metadata": {},
   "outputs": [],
   "source": []
  }
 ],
 "metadata": {
  "kernelspec": {
   "display_name": "Python 3",
   "language": "python",
   "name": "python3"
  },
  "language_info": {
   "codemirror_mode": {
    "name": "ipython",
    "version": 3
   },
   "file_extension": ".py",
   "mimetype": "text/x-python",
   "name": "python",
   "nbconvert_exporter": "python",
   "pygments_lexer": "ipython3",
   "version": "3.7.5rc1"
  }
 },
 "nbformat": 4,
 "nbformat_minor": 2
}
